{
 "cells": [
  {
   "cell_type": "code",
   "execution_count": 1,
   "metadata": {},
   "outputs": [],
   "source": [
    "\"\"\"\n",
    "@description: 执行训练\n",
    "\"\"\"\n",
    "\n",
    "\n",
    "\"\"\"\n",
    "工程所在绝对路径\n",
    "\"\"\"\n",
    "# abspath: absolute path to the project\n",
    "# realpath: canonical path of the specified filename, eliminating any symbolic links encountered in the path \n",
    "from os.path import dirname, abspath, realpath, curdir\n",
    "PROJECT_ROOT = realpath(curdir)\n",
    "import sys\n",
    "sys.path.append(PROJECT_ROOT)\n",
    "\n",
    "\"\"\"\n",
    "import\n",
    "\"\"\"\n",
    "from config import ConfigTrain  # 导入配置\n",
    "import utils\n",
    "from os.path import join as pjoin\n",
    "import pandas as pd\n",
    "import numpy as np\n",
    "import matplotlib.pyplot as plt\n",
    "import cv2\n",
    "import torch.nn.functional as F\n",
    "import torch\n",
    "\n"
   ]
  },
  {
   "cell_type": "code",
   "execution_count": 2,
   "metadata": {},
   "outputs": [
    {
     "data": {
      "text/plain": [
       "0"
      ]
     },
     "execution_count": 2,
     "metadata": {},
     "output_type": "execute_result"
    }
   ],
   "source": [
    "torch.cuda.current_device()"
   ]
  },
  {
   "cell_type": "code",
   "execution_count": 3,
   "metadata": {},
   "outputs": [
    {
     "name": "stdout",
     "output_type": "stream",
     "text": [
      "Pick device:  cuda:0\n",
      "Generating net:  resnext50_32x4d\n"
     ]
    }
   ],
   "source": [
    "DATA_LIST_ROOT = pjoin(PROJECT_ROOT, 'data_list')\n",
    "\n",
    "cfg = ConfigTrain()\n",
    "print('Pick device: ', cfg.DEVICE)\n",
    "device = torch.device(cfg.DEVICE)\n",
    "\n",
    "# 网络\n",
    "print('Generating net: ', cfg.NET_NAME)\n",
    "net = utils.create_net(3, cfg.NUM_CLASSES, net_name=cfg.NET_NAME)\n",
    "if cfg.PRETRAIN:  # 加载预训练权重\n",
    "    print('Load pretrain weights: ', cfg.PRETRAINED_WEIGHTS)\n",
    "    net.load_state_dict(torch.load(cfg.PRETRAINED_WEIGHTS, map_location='cpu'))\n",
    "net.to(device)\n",
    "# 优化器\n",
    "optimizer = torch.optim.Adam(net.parameters(), lr=cfg.BASE_LR) \n"
   ]
  },
  {
   "cell_type": "code",
   "execution_count": 8,
   "metadata": {},
   "outputs": [
    {
     "name": "stdout",
     "output_type": "stream",
     "text": [
      "Preparing data... batch_size: 2, image_size: (1536, 512), crop_offset: 690\n",
      "(21914, 2)\n"
     ]
    }
   ],
   "source": [
    " # 训练数据生成器\n",
    "print('Preparing data... batch_size: {}, image_size: {}, crop_offset: {}'.format(cfg.BATCH_SIZE, cfg.IMAGE_SIZE, cfg.HEIGHT_CROP_OFFSET))\n",
    "df_train = pd.read_csv(pjoin(cfg.DATA_LIST_ROOT, 'train.csv'))\n",
    "data_generator = utils.train_data_generator(np.array(df_train['image']),\n",
    "                                            np.array(df_train['label']),\n",
    "                                            cfg.BATCH_SIZE, cfg.IMAGE_SIZE, cfg.HEIGHT_CROP_OFFSET) # train_data_generator use a yield keyword, thus this is a generator"
   ]
  },
  {
   "cell_type": "code",
   "execution_count": null,
   "metadata": {},
   "outputs": [],
   "source": [
    "images, labels = next(data_generator)\n",
    "images = images.to(device)\n",
    "labels = labels.to(device)\n",
    "print(images.shape, labels.shape)\n",
    "\n",
    "out = net(images)\n",
    "print(out.shape)\n",
    "\n",
    "optimizer.zero_grad()\n",
    "\n",
    "loss, mean_iou = utils.create_loss(out, labels, NUM_CLASSES)\n",
    "print(loss, mean_iou)\n",
    "\n",
    "loss.backward()\n",
    "optimizer.step()"
   ]
  },
  {
   "cell_type": "code",
   "execution_count": null,
   "metadata": {},
   "outputs": [],
   "source": [
    "loss.item(), mean_iou.item()"
   ]
  },
  {
   "cell_type": "code",
   "execution_count": null,
   "metadata": {},
   "outputs": [],
   "source": [
    "plt.imshow(labels.cpu().numpy()[0])"
   ]
  },
  {
   "cell_type": "code",
   "execution_count": null,
   "metadata": {},
   "outputs": [],
   "source": [
    "plt.imshow(out.cpu().detach().numpy()[0][6])"
   ]
  },
  {
   "cell_type": "code",
   "execution_count": null,
   "metadata": {},
   "outputs": [],
   "source": [
    "\n",
    "out.cpu().detach().numpy()[0][0]"
   ]
  },
  {
   "cell_type": "code",
   "execution_count": null,
   "metadata": {},
   "outputs": [],
   "source": [
    "\n",
    "out.cpu().detach().numpy()[0][3]"
   ]
  },
  {
   "cell_type": "code",
   "execution_count": null,
   "metadata": {},
   "outputs": [],
   "source": [
    "np.sum(np.argmax(out.cpu().detach().numpy(), axis=1))"
   ]
  },
  {
   "cell_type": "code",
   "execution_count": null,
   "metadata": {},
   "outputs": [],
   "source": []
  },
  {
   "cell_type": "code",
   "execution_count": null,
   "metadata": {},
   "outputs": [],
   "source": []
  },
  {
   "cell_type": "code",
   "execution_count": null,
   "metadata": {},
   "outputs": [],
   "source": []
  },
  {
   "cell_type": "code",
   "execution_count": null,
   "metadata": {},
   "outputs": [],
   "source": [
    "# sys.path.append('/home/howard/Nutstore Files/我的坚果云/code_tools')"
   ]
  },
  {
   "cell_type": "code",
   "execution_count": null,
   "metadata": {},
   "outputs": [],
   "source": [
    "# from pyhw import hwimage"
   ]
  },
  {
   "cell_type": "code",
   "execution_count": null,
   "metadata": {},
   "outputs": [],
   "source": [
    "img = out.detach().numpy()\n",
    "print(img.shape)\n",
    "# plt.imshow(img[0][1])\n",
    "imgs = []\n",
    "for i in range(0, 3):\n",
    "    imgs.append(img[0][i])\n",
    "hwimage.imshow_multi(imgs)"
   ]
  },
  {
   "cell_type": "code",
   "execution_count": null,
   "metadata": {},
   "outputs": [],
   "source": [
    "imgs = []\n",
    "for i in range(3, 6):\n",
    "    imgs.append(img[0][i])\n",
    "hwimage.imshow_multi(imgs)"
   ]
  },
  {
   "cell_type": "code",
   "execution_count": null,
   "metadata": {},
   "outputs": [],
   "source": [
    "imgs = []\n",
    "for i in range(6, 8):\n",
    "    imgs.append(img[0][i])\n",
    "hwimage.imshow_multi(imgs)"
   ]
  },
  {
   "cell_type": "code",
   "execution_count": null,
   "metadata": {},
   "outputs": [],
   "source": []
  }
 ],
 "metadata": {
  "kernelspec": {
   "display_name": "Python 3",
   "language": "python",
   "name": "python3"
  },
  "language_info": {
   "codemirror_mode": {
    "name": "ipython",
    "version": 3
   },
   "file_extension": ".py",
   "mimetype": "text/x-python",
   "name": "python",
   "nbconvert_exporter": "python",
   "pygments_lexer": "ipython3",
   "version": "3.9.0"
  }
 },
 "nbformat": 4,
 "nbformat_minor": 2
}
